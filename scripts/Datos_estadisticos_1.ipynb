{
 "cells": [
  {
   "cell_type": "markdown",
   "id": "b8fd1b82",
   "metadata": {},
   "source": [
    "<a href=\"https://colab.research.google.com/github/DCDPUAEM/DCDP/blob/main/01%20Programaci%C3%B3n%20en%20Python/notebooks/Estadistica/Datos_estadisticos_1.ipynb\" target=\"_parent\"><img src=\"https://colab.research.google.com/assets/colab-badge.svg\" alt=\"Open In Colab\"/></a>"
   ]
  },
  {
   "cell_type": "markdown",
   "id": "0716b73a",
   "metadata": {},
   "source": [
    "# Tipos de datos estadísticos\n",
    "\n",
    "Para construir un **pipeline** adecuado en ciencia de datos, debemos tener un buen entendimiento del tipo de variables que estaremos percibiendo de los diferentes conjuntos de datos (datasets) que nos podamos encontrar....\n",
    "\n",
    "---\n",
    "\n",
    "Veamos ahora los [conceptos estadísticos básicos](https://towardsdatascience.com/introduction-to-statistics-in-python-6f5a8876c994) relacionados con el tipo de datos que se estudian.\n",
    "\n",
    "Se llama **variable estadística** a cada una de las características que pueden estudiarse de la población (o de muestras).\n",
    "\n",
    "![img](https://luminousmen.com/media/data-types-in-ds.jpeg)"
   ]
  },
  {
   "cell_type": "markdown",
   "id": "b9d9b466",
   "metadata": {},
   "source": [
    "1. **Cualitativas**: son variables que reflejan la propiedad o calidad de los objetos. En otras palabras, sirven como marcadores para algunas categorías. Por ejemplo, digamos que comparamos a personas que viven en un estado con personas que viven en otro estado. \n",
    "\n",
    "   * Nominales: Los datos nominales son aquellos que expresan con un nombre una cualidad que no tiene por qué ser ordenable (Nacionalidad, color de piel o religión).\n",
    "    \n",
    "   * Ordinales: Expresan una cualidad a través de un dato que es posible ordenar a través de una escala previamente definida (Nota de un examen, número de estrellas en una reseña de Google o posición en un concurso de pintura).\n",
    " \n",
    "---\n",
    "\n",
    "2. **Cuantitativas**: aquellas cuyo resultado es un número. A su vez, las hay de dos tipos:\n",
    "    \n",
    "   * Discretos: Los valores que pueden tomar vienen dados entre intervalos finitos de datos (pensemos en los números enteros).\n",
    "    \n",
    "   * Continuos: Estos datos se extraen de un intervalo de valores totalmente infinito, por lo que el número de datos diferentes que se puede obtener es ilimitado."
   ]
  },
  {
   "cell_type": "markdown",
   "id": "5c00bb52",
   "metadata": {},
   "source": [
    "## Análisis de datos categóricos con Python\n",
    "\n",
    "---\n",
    "\n",
    "Cuando trabajamos con estadísticas, es importante reconocer los diferentes tipos de datos: numéricos (discretos y continuos) y categóricos. Los datos no son más que observaciones del mundo en el que vivimos, por tanto, los mismos pueden venir en diferentes maneras, no solo de forma numérica. \n",
    "    \n",
    "![img](https://robocrop.realpython.net/?url=https%3A//files.realpython.com/media/Descriptive-Statistics-in-Python_Watermarked.fec81e9a41f9.jpg&w=960&sig=274c90a9fc73c1aafccc437c2db2c7ba12bc4c4c)"
   ]
  },
  {
   "cell_type": "markdown",
   "id": "5cb344e0",
   "metadata": {},
   "source": [
    "+ También vamos a utilizar la librería [pydataset](https://pypi.org/project/pydataset/), la cual nos facilita cargar los diferentes dataset para analizar.\n",
    "\n",
    "La idea es realizar un análisis estadístico sobre los datos de los sobrevivientes a la tragedia del Titanic."
   ]
  },
  {
   "cell_type": "code",
   "execution_count": 1,
   "id": "a6d9acf2",
   "metadata": {},
   "outputs": [],
   "source": [
    "#Se debe recordar que para la primera ejecución de este código, \n",
    "#se debe habilidar la instalación de 'pydataset'\n",
    "#!pip install pydataset"
   ]
  },
  {
   "cell_type": "code",
   "execution_count": 2,
   "id": "53824fba",
   "metadata": {},
   "outputs": [
    {
     "data": {
      "text/html": [
       "<div>\n",
       "<style scoped>\n",
       "    .dataframe tbody tr th:only-of-type {\n",
       "        vertical-align: middle;\n",
       "    }\n",
       "\n",
       "    .dataframe tbody tr th {\n",
       "        vertical-align: top;\n",
       "    }\n",
       "\n",
       "    .dataframe thead th {\n",
       "        text-align: right;\n",
       "    }\n",
       "</style>\n",
       "<table border=\"1\" class=\"dataframe\">\n",
       "  <thead>\n",
       "    <tr style=\"text-align: right;\">\n",
       "      <th></th>\n",
       "      <th>class</th>\n",
       "      <th>age</th>\n",
       "      <th>sex</th>\n",
       "      <th>survived</th>\n",
       "    </tr>\n",
       "  </thead>\n",
       "  <tbody>\n",
       "    <tr>\n",
       "      <th>1</th>\n",
       "      <td>1st class</td>\n",
       "      <td>adults</td>\n",
       "      <td>man</td>\n",
       "      <td>yes</td>\n",
       "    </tr>\n",
       "    <tr>\n",
       "      <th>2</th>\n",
       "      <td>1st class</td>\n",
       "      <td>adults</td>\n",
       "      <td>man</td>\n",
       "      <td>yes</td>\n",
       "    </tr>\n",
       "    <tr>\n",
       "      <th>3</th>\n",
       "      <td>1st class</td>\n",
       "      <td>adults</td>\n",
       "      <td>man</td>\n",
       "      <td>yes</td>\n",
       "    </tr>\n",
       "    <tr>\n",
       "      <th>4</th>\n",
       "      <td>1st class</td>\n",
       "      <td>adults</td>\n",
       "      <td>man</td>\n",
       "      <td>yes</td>\n",
       "    </tr>\n",
       "    <tr>\n",
       "      <th>5</th>\n",
       "      <td>1st class</td>\n",
       "      <td>adults</td>\n",
       "      <td>man</td>\n",
       "      <td>yes</td>\n",
       "    </tr>\n",
       "    <tr>\n",
       "      <th>6</th>\n",
       "      <td>1st class</td>\n",
       "      <td>adults</td>\n",
       "      <td>man</td>\n",
       "      <td>yes</td>\n",
       "    </tr>\n",
       "    <tr>\n",
       "      <th>7</th>\n",
       "      <td>1st class</td>\n",
       "      <td>adults</td>\n",
       "      <td>man</td>\n",
       "      <td>yes</td>\n",
       "    </tr>\n",
       "    <tr>\n",
       "      <th>8</th>\n",
       "      <td>1st class</td>\n",
       "      <td>adults</td>\n",
       "      <td>man</td>\n",
       "      <td>yes</td>\n",
       "    </tr>\n",
       "    <tr>\n",
       "      <th>9</th>\n",
       "      <td>1st class</td>\n",
       "      <td>adults</td>\n",
       "      <td>man</td>\n",
       "      <td>yes</td>\n",
       "    </tr>\n",
       "    <tr>\n",
       "      <th>10</th>\n",
       "      <td>1st class</td>\n",
       "      <td>adults</td>\n",
       "      <td>man</td>\n",
       "      <td>yes</td>\n",
       "    </tr>\n",
       "  </tbody>\n",
       "</table>\n",
       "</div>"
      ],
      "text/plain": [
       "        class     age  sex survived\n",
       "1   1st class  adults  man      yes\n",
       "2   1st class  adults  man      yes\n",
       "3   1st class  adults  man      yes\n",
       "4   1st class  adults  man      yes\n",
       "5   1st class  adults  man      yes\n",
       "6   1st class  adults  man      yes\n",
       "7   1st class  adults  man      yes\n",
       "8   1st class  adults  man      yes\n",
       "9   1st class  adults  man      yes\n",
       "10  1st class  adults  man      yes"
      ]
     },
     "execution_count": 2,
     "metadata": {},
     "output_type": "execute_result"
    }
   ],
   "source": [
    "# importando modulos necesarios\n",
    "import matplotlib.pyplot as plt\n",
    "import numpy as np\n",
    "import pandas as pd\n",
    "import seaborn as sns\n",
    "\n",
    "from pydataset import data\n",
    "%matplotlib notebook\n",
    "#Añadir la siguiente línea de código\n",
    "%matplotlib inline \n",
    "\n",
    "# importando dataset\n",
    "titanic = data('titanic')\n",
    "# ver primeros 10 registros\n",
    "titanic.head(10)"
   ]
  },
  {
   "cell_type": "markdown",
   "id": "c0c55434",
   "metadata": {},
   "source": [
    "La función [describe()](https://pandas.pydata.org/docs/reference/api/pandas.DataFrame.describe.html) se utiliza para ver algunos detalles estadísticos básicos como percentiles, media, std, etc. de un DataFrame o una serie de valores numéricos. Cuando este método se aplica a una serie de Strings, devuelve una salida diferente que se muestra en los ejemplos a continuación."
   ]
  },
  {
   "cell_type": "code",
   "execution_count": 3,
   "id": "b2153ed4",
   "metadata": {},
   "outputs": [
    {
     "data": {
      "text/html": [
       "<div>\n",
       "<style scoped>\n",
       "    .dataframe tbody tr th:only-of-type {\n",
       "        vertical-align: middle;\n",
       "    }\n",
       "\n",
       "    .dataframe tbody tr th {\n",
       "        vertical-align: top;\n",
       "    }\n",
       "\n",
       "    .dataframe thead th {\n",
       "        text-align: right;\n",
       "    }\n",
       "</style>\n",
       "<table border=\"1\" class=\"dataframe\">\n",
       "  <thead>\n",
       "    <tr style=\"text-align: right;\">\n",
       "      <th></th>\n",
       "      <th>class</th>\n",
       "      <th>age</th>\n",
       "      <th>sex</th>\n",
       "      <th>survived</th>\n",
       "    </tr>\n",
       "  </thead>\n",
       "  <tbody>\n",
       "    <tr>\n",
       "      <th>count</th>\n",
       "      <td>1316</td>\n",
       "      <td>1316</td>\n",
       "      <td>1316</td>\n",
       "      <td>1316</td>\n",
       "    </tr>\n",
       "    <tr>\n",
       "      <th>unique</th>\n",
       "      <td>3</td>\n",
       "      <td>2</td>\n",
       "      <td>2</td>\n",
       "      <td>2</td>\n",
       "    </tr>\n",
       "    <tr>\n",
       "      <th>top</th>\n",
       "      <td>3rd class</td>\n",
       "      <td>adults</td>\n",
       "      <td>man</td>\n",
       "      <td>no</td>\n",
       "    </tr>\n",
       "    <tr>\n",
       "      <th>freq</th>\n",
       "      <td>706</td>\n",
       "      <td>1207</td>\n",
       "      <td>869</td>\n",
       "      <td>817</td>\n",
       "    </tr>\n",
       "  </tbody>\n",
       "</table>\n",
       "</div>"
      ],
      "text/plain": [
       "            class     age   sex survived\n",
       "count        1316    1316  1316     1316\n",
       "unique          3       2     2        2\n",
       "top     3rd class  adults   man       no\n",
       "freq          706    1207   869      817"
      ]
     },
     "execution_count": 3,
     "metadata": {},
     "output_type": "execute_result"
    }
   ],
   "source": [
    "titanic.describe()"
   ]
  },
  {
   "cell_type": "markdown",
   "id": "8adb8a4e",
   "metadata": {},
   "source": [
    "Para hacernos una *imagen de los datos*, lo primero que tenemos que hacer es agruparlos. \n",
    "\n",
    "Al armar diferentes grupos nos vamos acercando a la comprensión de los datos.\n",
    "\n",
    "**La idea es ir agrupando las cosas que parecen ir juntas, para poder ver como se distribuyen a través de las diferentes categorías**. \n",
    "\n",
    "Para los *datos categóricos*, agrupar es fácil; simplemente debemos contar el número de ítems que corresponden a cada categoría y juntarlos. \n",
    "\n",
    "Una forma en la que podemos agrupar nuestro dataset del Titanic es contando las diferentes clases de pasajeros. Podemos organizar estos conteos en una *tabla de frecuencia*, que registra los totales y los nombres de las categorías utilizando la función [**value_counts**](https://pandas.pydata.org/docs/reference/api/pandas.Series.value_counts.html) que nos proporciona Pandas del siguiente modo:"
   ]
  },
  {
   "cell_type": "code",
   "execution_count": 4,
   "id": "a1c76b83",
   "metadata": {},
   "outputs": [
    {
     "data": {
      "text/plain": [
       "3rd class    706\n",
       "1st class    325\n",
       "2nd class    285\n",
       "Name: class, dtype: int64"
      ]
     },
     "execution_count": 4,
     "metadata": {},
     "output_type": "execute_result"
    }
   ],
   "source": [
    "# tabla de frecuencia de clases de pasajeros\n",
    "pd.value_counts(titanic['class'])"
   ]
  },
  {
   "cell_type": "markdown",
   "id": "a51b177d",
   "metadata": {},
   "source": [
    "Una tabla de **frecuencia relativa** muestra los porcentajes, en lugar de los recuentos de los valores en cada categoría. Ambos tipos de tablas muestran cómo los casos se distribuyen a través de las categorías. \n",
    "\n",
    "De esta manera, ellas describen la distribución de una variable categórica, ya que enumeran las posibles categorías y nos dicen con qué frecuencia se produce cada una de ellas."
   ]
  },
  {
   "cell_type": "code",
   "execution_count": 5,
   "id": "fe7beef7",
   "metadata": {},
   "outputs": [
    {
     "data": {
      "text/plain": [
       "3rd class    53.647416\n",
       "1st class    24.696049\n",
       "2nd class    21.656535\n",
       "Name: class, dtype: float64"
      ]
     },
     "execution_count": 5,
     "metadata": {},
     "output_type": "execute_result"
    }
   ],
   "source": [
    "# tabla de frecuencia relativa de pasajeros\n",
    "100 * titanic['class'].value_counts() / len(titanic['class'])"
   ]
  },
  {
   "cell_type": "markdown",
   "id": "05e99851",
   "metadata": {},
   "source": [
    "### Gráficos de pastel y barras\n",
    "\n",
    "---\n",
    "\n",
    "El gráfico de barras nos ayuda a darnos una impresión visual más precisa de la distribución de nuestros datos. \n",
    "\n",
    "La altura de cada barra muestra el recuento de su categoría. Los barras tienen el mismo ancho, por lo que sus alturas determinan sus áreas, y estas áreas son proporcionales a los recuentos en cada categoría. \n",
    "\n",
    "De esta forma, podemos ver fácilmente que había más del doble de pasajeros de tercera clase, que de primera o segunda clase. \n",
    "\n",
    "Los gráficos de barras hacen que este tipo de comparaciones sean fáciles y naturales. Veamos como podemos crearlos de forma sencilla utilizando el método [**plt.plot()**](https://matplotlib.org/stable/api/_as_gen/matplotlib.pyplot.figure.html) dentro de un **DataFrame** de **Pandas** y guardando esa imagen con [**plt.savefig()**](https://matplotlib.org/stable/api/_as_gen/matplotlib.pyplot.savefig.html)"
   ]
  },
  {
   "cell_type": "code",
   "execution_count": 6,
   "id": "55f97c0e",
   "metadata": {},
   "outputs": [
    {
     "data": {
      "image/png": "[encoded data removed]",
      "text/plain": [
       "<Figure size 800x300 with 1 Axes>"
      ]
     },
     "metadata": {},
     "output_type": "display_data"
    }
   ],
   "source": [
    "# Gráfico de barras de pasajeros del Titanic\n",
    "# Se puede añadir %matplotlib inline\n",
    "from matplotlib.pyplot import figure\n",
    "plt.rcParams[\"figure.figsize\"] = (8,3)\n",
    "plot = titanic['class'].value_counts().plot(kind='bar', title='Pasajeros del Titanic')\n",
    "plt.savefig(\"figure.png\")"
   ]
  },
  {
   "cell_type": "code",
   "execution_count": 7,
   "id": "c7a2b399",
   "metadata": {},
   "outputs": [
    {
     "data": {
      "text/plain": [
       "<AxesSubplot:title={'center':'Pasajeros del Titanic %'}>"
      ]
     },
     "execution_count": 7,
     "metadata": {},
     "output_type": "execute_result"
    },
    {
     "data": {
      "image/png": "[encoded data removed]",
      "text/plain": [
       "<Figure size 800x300 with 1 Axes>"
      ]
     },
     "metadata": {},
     "output_type": "display_data"
    }
   ],
   "source": [
    "# gráfico de barras de frecuencias relativas.\n",
    "plot = (100 * titanic['class'].value_counts() / len(titanic['class'])).plot(kind='bar', title='Pasajeros del Titanic %')\n",
    "plot"
   ]
  },
  {
   "cell_type": "markdown",
   "id": "c1b1f5a0",
   "metadata": {},
   "source": [
    "Por otro lado, el gráfico de pastel muestra el total de casos proporcionales a la fracción que cada categoría representa. \n",
    "\n",
    "Los gráfico de pastel dan una impresión rápida de cómo todo un grupo se divide en grupos más pequeños. Lo podríamos graficar del siguiente modo, también utilizando el método plot:"
   ]
  },
  {
   "cell_type": "code",
   "execution_count": 8,
   "id": "7d24569a",
   "metadata": {},
   "outputs": [
    {
     "data": {
      "image/png": "[encoded data removed]",
      "text/plain": [
       "<Figure size 300x300 with 1 Axes>"
      ]
     },
     "metadata": {},
     "output_type": "display_data"
    }
   ],
   "source": [
    "# Gráfico de tarta de pasajeros del Titanic\n",
    "plot = titanic['class'].value_counts().plot(kind='pie', autopct='%.2f', \n",
    "                                            figsize=(3, 3),\n",
    "                                            title='Pasajeros del Titanic')"
   ]
  },
  {
   "cell_type": "markdown",
   "id": "6c58141f",
   "metadata": {},
   "source": [
    "## Relacionando variables categóricas¶\n",
    "\n",
    "---\n",
    "\n",
    "Al analizar la tragedia del Titanic, una de las preguntas que podríamos hacer es **¿existe alguna relación entre la clase de pasajeros y la posibilidad de alcanzar un bote salvavidas y sobrevivir a la tragedia?**. \n",
    "\n",
    "Para poder responder a esta pregunta, vamos a necesitar analizar a las variables **class** y **survived** de nuestro dataset en forma conjunta. \n",
    "\n",
    "---\n",
    "\n",
    "Una buena forma de analizar dos variables categóricas en forma conjunta, es agrupar los recuentos en una tabla de doble entrada; este tipo de tablas se conocen en estadística con el nombre de tabla de contingencia. Veamos como podemos crear esta tabla utilizando la función **crosstab** de **Pandas**."
   ]
  },
  {
   "cell_type": "code",
   "execution_count": 9,
   "id": "a12f75d6",
   "metadata": {},
   "outputs": [
    {
     "data": {
      "text/html": [
       "<div>\n",
       "<style scoped>\n",
       "    .dataframe tbody tr th:only-of-type {\n",
       "        vertical-align: middle;\n",
       "    }\n",
       "\n",
       "    .dataframe tbody tr th {\n",
       "        vertical-align: top;\n",
       "    }\n",
       "\n",
       "    .dataframe thead th {\n",
       "        text-align: right;\n",
       "    }\n",
       "</style>\n",
       "<table border=\"1\" class=\"dataframe\">\n",
       "  <thead>\n",
       "    <tr style=\"text-align: right;\">\n",
       "      <th>class</th>\n",
       "      <th>1st class</th>\n",
       "      <th>2nd class</th>\n",
       "      <th>3rd class</th>\n",
       "      <th>All</th>\n",
       "    </tr>\n",
       "    <tr>\n",
       "      <th>survived</th>\n",
       "      <th></th>\n",
       "      <th></th>\n",
       "      <th></th>\n",
       "      <th></th>\n",
       "    </tr>\n",
       "  </thead>\n",
       "  <tbody>\n",
       "    <tr>\n",
       "      <th>no</th>\n",
       "      <td>122</td>\n",
       "      <td>167</td>\n",
       "      <td>528</td>\n",
       "      <td>817</td>\n",
       "    </tr>\n",
       "    <tr>\n",
       "      <th>yes</th>\n",
       "      <td>203</td>\n",
       "      <td>118</td>\n",
       "      <td>178</td>\n",
       "      <td>499</td>\n",
       "    </tr>\n",
       "    <tr>\n",
       "      <th>All</th>\n",
       "      <td>325</td>\n",
       "      <td>285</td>\n",
       "      <td>706</td>\n",
       "      <td>1316</td>\n",
       "    </tr>\n",
       "  </tbody>\n",
       "</table>\n",
       "</div>"
      ],
      "text/plain": [
       "class     1st class  2nd class  3rd class   All\n",
       "survived                                       \n",
       "no              122        167        528   817\n",
       "yes             203        118        178   499\n",
       "All             325        285        706  1316"
      ]
     },
     "execution_count": 9,
     "metadata": {},
     "output_type": "execute_result"
    }
   ],
   "source": [
    "# Tabla de contingencia class / survived\n",
    "pd.crosstab(index=titanic['survived'],\n",
    "            columns=titanic['class'], margins=True)"
   ]
  },
  {
   "cell_type": "code",
   "execution_count": 10,
   "id": "44154b52",
   "metadata": {},
   "outputs": [
    {
     "data": {
      "text/html": [
       "<div>\n",
       "<style scoped>\n",
       "    .dataframe tbody tr th:only-of-type {\n",
       "        vertical-align: middle;\n",
       "    }\n",
       "\n",
       "    .dataframe tbody tr th {\n",
       "        vertical-align: top;\n",
       "    }\n",
       "\n",
       "    .dataframe thead th {\n",
       "        text-align: right;\n",
       "    }\n",
       "</style>\n",
       "<table border=\"1\" class=\"dataframe\">\n",
       "  <thead>\n",
       "    <tr style=\"text-align: right;\">\n",
       "      <th>class</th>\n",
       "      <th>1st class</th>\n",
       "      <th>2nd class</th>\n",
       "      <th>3rd class</th>\n",
       "      <th>All</th>\n",
       "    </tr>\n",
       "    <tr>\n",
       "      <th>survived</th>\n",
       "      <th></th>\n",
       "      <th></th>\n",
       "      <th></th>\n",
       "      <th></th>\n",
       "    </tr>\n",
       "  </thead>\n",
       "  <tbody>\n",
       "    <tr>\n",
       "      <th>no</th>\n",
       "      <td>122</td>\n",
       "      <td>167</td>\n",
       "      <td>528</td>\n",
       "      <td>817</td>\n",
       "    </tr>\n",
       "    <tr>\n",
       "      <th>yes</th>\n",
       "      <td>203</td>\n",
       "      <td>118</td>\n",
       "      <td>178</td>\n",
       "      <td>499</td>\n",
       "    </tr>\n",
       "    <tr>\n",
       "      <th>All</th>\n",
       "      <td>325</td>\n",
       "      <td>285</td>\n",
       "      <td>706</td>\n",
       "      <td>1316</td>\n",
       "    </tr>\n",
       "  </tbody>\n",
       "</table>\n",
       "</div>"
      ],
      "text/plain": [
       "class     1st class  2nd class  3rd class   All\n",
       "survived                                       \n",
       "no              122        167        528   817\n",
       "yes             203        118        178   499\n",
       "All             325        285        706  1316"
      ]
     },
     "execution_count": 10,
     "metadata": {},
     "output_type": "execute_result"
    }
   ],
   "source": [
    "test = titanic.groupby('survived')['class'].value_counts().unstack()\n",
    "test['All'] = test.sum(axis=1)\n",
    "test.loc['All']= test.sum()\n",
    "test"
   ]
  },
  {
   "cell_type": "markdown",
   "id": "67248be8",
   "metadata": {},
   "source": [
    "Los márgenes de la tabla, tanto en la derecha y en la parte inferior, nos muestran los totales. La línea inferior de la tabla representa la distribución de frecuencia de la clase de pasajeros. \n",
    "\n",
    "La columna derecha de la tabla es la distribución de frecuencia de la variable supervivencia. \n",
    "\n",
    "Cuando se presenta la información de este modo, cada celda de cada uno de los márgenes de la tabla representa la *distribución marginal* de esa variable en particular. \n",
    "\n",
    "\n",
    "Cada celda nos va a mostrar el recuento para la combinación de los valores de nuestras dos variables categóricas, en este caso **class** y **survived**."
   ]
  },
  {
   "cell_type": "markdown",
   "id": "19a64b1c",
   "metadata": {},
   "source": [
    "---\n",
    "\n",
    "Al igual de como habíamos visto con las tablas de frecuencia, también nos podría ser útil representar a las tablas de contingencia con porcentajes relativos; esto lo podríamos realizar utilizando el método apply del siguiente modo:"
   ]
  },
  {
   "cell_type": "code",
   "execution_count": 11,
   "id": "8f745e6a",
   "metadata": {},
   "outputs": [
    {
     "data": {
      "text/html": [
       "<div>\n",
       "<style scoped>\n",
       "    .dataframe tbody tr th:only-of-type {\n",
       "        vertical-align: middle;\n",
       "    }\n",
       "\n",
       "    .dataframe tbody tr th {\n",
       "        vertical-align: top;\n",
       "    }\n",
       "\n",
       "    .dataframe thead th {\n",
       "        text-align: right;\n",
       "    }\n",
       "</style>\n",
       "<table border=\"1\" class=\"dataframe\">\n",
       "  <thead>\n",
       "    <tr style=\"text-align: right;\">\n",
       "      <th>class</th>\n",
       "      <th>1st class</th>\n",
       "      <th>2nd class</th>\n",
       "      <th>3rd class</th>\n",
       "      <th>All</th>\n",
       "    </tr>\n",
       "    <tr>\n",
       "      <th>survived</th>\n",
       "      <th></th>\n",
       "      <th></th>\n",
       "      <th></th>\n",
       "      <th></th>\n",
       "    </tr>\n",
       "  </thead>\n",
       "  <tbody>\n",
       "    <tr>\n",
       "      <th>no</th>\n",
       "      <td>9.27</td>\n",
       "      <td>12.69</td>\n",
       "      <td>40.12</td>\n",
       "      <td>62.08</td>\n",
       "    </tr>\n",
       "    <tr>\n",
       "      <th>yes</th>\n",
       "      <td>15.43</td>\n",
       "      <td>8.97</td>\n",
       "      <td>13.53</td>\n",
       "      <td>37.92</td>\n",
       "    </tr>\n",
       "    <tr>\n",
       "      <th>All</th>\n",
       "      <td>24.70</td>\n",
       "      <td>21.66</td>\n",
       "      <td>53.65</td>\n",
       "      <td>100.00</td>\n",
       "    </tr>\n",
       "  </tbody>\n",
       "</table>\n",
       "</div>"
      ],
      "text/plain": [
       "class     1st class  2nd class  3rd class     All\n",
       "survived                                         \n",
       "no             9.27      12.69      40.12   62.08\n",
       "yes           15.43       8.97      13.53   37.92\n",
       "All           24.70      21.66      53.65  100.00"
      ]
     },
     "execution_count": 11,
     "metadata": {},
     "output_type": "execute_result"
    }
   ],
   "source": [
    "# tabla de contingencia en porcentajes relativos total\n",
    "pd.crosstab(index=titanic['survived'], columns=titanic['class'],\n",
    "            margins=True).apply(lambda r: r/len(titanic) *100,\n",
    "                                axis=1).round(2)"
   ]
  },
  {
   "cell_type": "markdown",
   "id": "4e97a0ad",
   "metadata": {},
   "source": [
    "Con esta tabla podemos ver fácilmente que solo el 37.91% de los pasajeros sobrevivió a la tragedia y que este 37% se compone de la siguiente forma: del total de pasajeros sobrevivió un 15.42% de pasajeros que eran de primera clase, un 8.97% que eran de segunda clase y un 13.52% que eran pasajeros de tercera clase.\n",
    "\n",
    "---\n",
    "\n",
    "Volviendo a nuestra pregunta inicial sobre la posibilidad de sobrevivir según la clase de pasajero, podría ser más útil armar la tabla de porcentajes como un porcentaje relativo sobre el total de cada fila, es decir calcular el porcentaje relativo que cada clase tiene sobre haber sobrevivido o no. Esto lo podemos realizar del siguiente modo:"
   ]
  },
  {
   "cell_type": "code",
   "execution_count": 12,
   "id": "6a84ad2d",
   "metadata": {},
   "outputs": [
    {
     "data": {
      "text/html": [
       "<div>\n",
       "<style scoped>\n",
       "    .dataframe tbody tr th:only-of-type {\n",
       "        vertical-align: middle;\n",
       "    }\n",
       "\n",
       "    .dataframe tbody tr th {\n",
       "        vertical-align: top;\n",
       "    }\n",
       "\n",
       "    .dataframe thead th {\n",
       "        text-align: right;\n",
       "    }\n",
       "</style>\n",
       "<table border=\"1\" class=\"dataframe\">\n",
       "  <thead>\n",
       "    <tr style=\"text-align: right;\">\n",
       "      <th>class</th>\n",
       "      <th>1st class</th>\n",
       "      <th>2nd class</th>\n",
       "      <th>3rd class</th>\n",
       "    </tr>\n",
       "    <tr>\n",
       "      <th>survived</th>\n",
       "      <th></th>\n",
       "      <th></th>\n",
       "      <th></th>\n",
       "    </tr>\n",
       "  </thead>\n",
       "  <tbody>\n",
       "    <tr>\n",
       "      <th>no</th>\n",
       "      <td>14.933</td>\n",
       "      <td>20.441</td>\n",
       "      <td>64.627</td>\n",
       "    </tr>\n",
       "    <tr>\n",
       "      <th>yes</th>\n",
       "      <td>40.681</td>\n",
       "      <td>23.647</td>\n",
       "      <td>35.671</td>\n",
       "    </tr>\n",
       "  </tbody>\n",
       "</table>\n",
       "</div>"
      ],
      "text/plain": [
       "class     1st class  2nd class  3rd class\n",
       "survived                                 \n",
       "no           14.933     20.441     64.627\n",
       "yes          40.681     23.647     35.671"
      ]
     },
     "execution_count": 12,
     "metadata": {},
     "output_type": "execute_result"
    }
   ],
   "source": [
    "# tabla de contingencia en porcentajes relativos segun sobreviviente\n",
    "testing = pd.crosstab(index=titanic['survived'], \n",
    "            columns=titanic['class']).apply(lambda r: r/r.sum() *100, \n",
    "                                            axis=1).round(3)\n",
    "testing"
   ]
  },
  {
   "cell_type": "markdown",
   "id": "b2e77780",
   "metadata": {},
   "source": [
    "Aquí podemos ver que de los pasajeros que sobrevivieron a la tragedia, el 40.68% correspondían a primera clase, el 35.67% a tercera clase y el 23.65% a segunda clase. Por tanto podríamos inferir que los pasajeros de primera clase tenían más posibilidades de sobrevivir."
   ]
  },
  {
   "cell_type": "code",
   "execution_count": 13,
   "id": "c6bc768a",
   "metadata": {},
   "outputs": [
    {
     "data": {
      "image/png": "[encoded data removed]",
      "text/plain": [
       "<Figure size 800x300 with 1 Axes>"
      ]
     },
     "metadata": {},
     "output_type": "display_data"
    }
   ],
   "source": [
    "# Gráfico de barras de sobreviviviente segun clase\n",
    "plot = testing.plot(kind='bar')"
   ]
  },
  {
   "cell_type": "code",
   "execution_count": 14,
   "id": "4b66cafa",
   "metadata": {},
   "outputs": [
    {
     "data": {
      "image/png": "[encoded data removed]",
      "text/plain": [
       "<Figure size 800x300 with 1 Axes>"
      ]
     },
     "metadata": {},
     "output_type": "display_data"
    }
   ],
   "source": [
    "# Gráfico de barras de sobreviviviente segun clase\n",
    "plot = testing.plot(kind='bar', stacked=True)"
   ]
  },
  {
   "cell_type": "markdown",
   "id": "fbf2c66d",
   "metadata": {},
   "source": [
    "# Sección de practica\n",
    "Aquí, intenta calcular las tablas anteriores sin utilizar la función de\n",
    "crosstab de pandas. Para eso, pudieras auxiliarte de groupby y value_counts. Échale coco!"
   ]
  },
  {
   "cell_type": "code",
   "execution_count": null,
   "id": "51ba0581",
   "metadata": {},
   "outputs": [],
   "source": [
    "# Tu codigo aqui\n",
    "<#Completa>"
   ]
  },
  {
   "cell_type": "markdown",
   "id": "25610857",
   "metadata": {},
   "source": [
    "## Analizando datos cuantitativos con Python\n",
    "\n",
    "---\n",
    "\n",
    "Para los ejemplos de esta sección, vamos a trabajar con el dataset **faithful**, el cual consiste en una colección de observaciones sobre las erupciones del géiser Old Faithful en el parque nacional Yellowstone de los Estados Unidos. La información que contiene este dataset es la siguiente:\n"
   ]
  },
  {
   "cell_type": "code",
   "execution_count": 16,
   "id": "74d89f47",
   "metadata": {},
   "outputs": [
    {
     "data": {
      "text/html": [
       "<div>\n",
       "<style scoped>\n",
       "    .dataframe tbody tr th:only-of-type {\n",
       "        vertical-align: middle;\n",
       "    }\n",
       "\n",
       "    .dataframe tbody tr th {\n",
       "        vertical-align: top;\n",
       "    }\n",
       "\n",
       "    .dataframe thead th {\n",
       "        text-align: right;\n",
       "    }\n",
       "</style>\n",
       "<table border=\"1\" class=\"dataframe\">\n",
       "  <thead>\n",
       "    <tr style=\"text-align: right;\">\n",
       "      <th></th>\n",
       "      <th>eruptions</th>\n",
       "      <th>waiting</th>\n",
       "    </tr>\n",
       "  </thead>\n",
       "  <tbody>\n",
       "    <tr>\n",
       "      <th>1</th>\n",
       "      <td>3.600</td>\n",
       "      <td>79</td>\n",
       "    </tr>\n",
       "    <tr>\n",
       "      <th>2</th>\n",
       "      <td>1.800</td>\n",
       "      <td>54</td>\n",
       "    </tr>\n",
       "    <tr>\n",
       "      <th>3</th>\n",
       "      <td>3.333</td>\n",
       "      <td>74</td>\n",
       "    </tr>\n",
       "    <tr>\n",
       "      <th>4</th>\n",
       "      <td>2.283</td>\n",
       "      <td>62</td>\n",
       "    </tr>\n",
       "    <tr>\n",
       "      <th>5</th>\n",
       "      <td>4.533</td>\n",
       "      <td>85</td>\n",
       "    </tr>\n",
       "    <tr>\n",
       "      <th>...</th>\n",
       "      <td>...</td>\n",
       "      <td>...</td>\n",
       "    </tr>\n",
       "    <tr>\n",
       "      <th>268</th>\n",
       "      <td>4.117</td>\n",
       "      <td>81</td>\n",
       "    </tr>\n",
       "    <tr>\n",
       "      <th>269</th>\n",
       "      <td>2.150</td>\n",
       "      <td>46</td>\n",
       "    </tr>\n",
       "    <tr>\n",
       "      <th>270</th>\n",
       "      <td>4.417</td>\n",
       "      <td>90</td>\n",
       "    </tr>\n",
       "    <tr>\n",
       "      <th>271</th>\n",
       "      <td>1.817</td>\n",
       "      <td>46</td>\n",
       "    </tr>\n",
       "    <tr>\n",
       "      <th>272</th>\n",
       "      <td>4.467</td>\n",
       "      <td>74</td>\n",
       "    </tr>\n",
       "  </tbody>\n",
       "</table>\n",
       "<p>272 rows × 2 columns</p>\n",
       "</div>"
      ],
      "text/plain": [
       "     eruptions  waiting\n",
       "1        3.600       79\n",
       "2        1.800       54\n",
       "3        3.333       74\n",
       "4        2.283       62\n",
       "5        4.533       85\n",
       "..         ...      ...\n",
       "268      4.117       81\n",
       "269      2.150       46\n",
       "270      4.417       90\n",
       "271      1.817       46\n",
       "272      4.467       74\n",
       "\n",
       "[272 rows x 2 columns]"
      ]
     },
     "execution_count": 16,
     "metadata": {},
     "output_type": "execute_result"
    }
   ],
   "source": [
    "faithful = data('faithful')\n",
    "faithful"
   ]
  },
  {
   "cell_type": "code",
   "execution_count": 17,
   "id": "6458d1cc",
   "metadata": {},
   "outputs": [
    {
     "data": {
      "text/html": [
       "<div>\n",
       "<style scoped>\n",
       "    .dataframe tbody tr th:only-of-type {\n",
       "        vertical-align: middle;\n",
       "    }\n",
       "\n",
       "    .dataframe tbody tr th {\n",
       "        vertical-align: top;\n",
       "    }\n",
       "\n",
       "    .dataframe thead th {\n",
       "        text-align: right;\n",
       "    }\n",
       "</style>\n",
       "<table border=\"1\" class=\"dataframe\">\n",
       "  <thead>\n",
       "    <tr style=\"text-align: right;\">\n",
       "      <th></th>\n",
       "      <th>eruptions</th>\n",
       "      <th>waiting</th>\n",
       "    </tr>\n",
       "  </thead>\n",
       "  <tbody>\n",
       "    <tr>\n",
       "      <th>count</th>\n",
       "      <td>272.000000</td>\n",
       "      <td>272.000000</td>\n",
       "    </tr>\n",
       "    <tr>\n",
       "      <th>mean</th>\n",
       "      <td>3.487783</td>\n",
       "      <td>70.897059</td>\n",
       "    </tr>\n",
       "    <tr>\n",
       "      <th>std</th>\n",
       "      <td>1.141371</td>\n",
       "      <td>13.594974</td>\n",
       "    </tr>\n",
       "    <tr>\n",
       "      <th>min</th>\n",
       "      <td>1.600000</td>\n",
       "      <td>43.000000</td>\n",
       "    </tr>\n",
       "    <tr>\n",
       "      <th>25%</th>\n",
       "      <td>2.162750</td>\n",
       "      <td>58.000000</td>\n",
       "    </tr>\n",
       "    <tr>\n",
       "      <th>50%</th>\n",
       "      <td>4.000000</td>\n",
       "      <td>76.000000</td>\n",
       "    </tr>\n",
       "    <tr>\n",
       "      <th>75%</th>\n",
       "      <td>4.454250</td>\n",
       "      <td>82.000000</td>\n",
       "    </tr>\n",
       "    <tr>\n",
       "      <th>max</th>\n",
       "      <td>5.100000</td>\n",
       "      <td>96.000000</td>\n",
       "    </tr>\n",
       "  </tbody>\n",
       "</table>\n",
       "</div>"
      ],
      "text/plain": [
       "        eruptions     waiting\n",
       "count  272.000000  272.000000\n",
       "mean     3.487783   70.897059\n",
       "std      1.141371   13.594974\n",
       "min      1.600000   43.000000\n",
       "25%      2.162750   58.000000\n",
       "50%      4.000000   76.000000\n",
       "75%      4.454250   82.000000\n",
       "max      5.100000   96.000000"
      ]
     },
     "execution_count": 17,
     "metadata": {},
     "output_type": "execute_result"
    }
   ],
   "source": [
    "faithful.describe()"
   ]
  },
  {
   "cell_type": "markdown",
   "id": "72e3d8b5",
   "metadata": {},
   "source": [
    "## Histogramas\n",
    "\n",
    "---\n",
    "\n",
    "Para las variables cuantitativas, a diferencia de lo que pasaba con las variables categóricas, no existe una forma obvia de agrupar los datos; por tal motivo lo que se suele hacer es, dividir los posibles valores en diferentes contenedores del mismo tamaño y luego contar el número de casos que cae dentro de cada uno de los contenedores. \n",
    "\n",
    "\n",
    "Estos contenedores junto con sus recuentos, nos proporcionan una imagen de la distribución de la variable cuantitativa y constituyen la base para poder graficar el histograma. \n",
    "\n",
    "\n",
    "Para construir el gráfico, simplemente debemos representar a los recuentos como barras y graficarlas contra los valores de cada uno de los contenedores.\n",
    "\n",
    "\n",
    "**Con Python podemos representar fácilmente el histograma de la variable eruptions utilizando el método *hist* del DataFrame de *Pandas* del siguiente modo**:"
   ]
  },
  {
   "cell_type": "code",
   "execution_count": 18,
   "id": "2696a03d",
   "metadata": {},
   "outputs": [
    {
     "data": {
      "image/png": "[encoded data removed]",
      "text/plain": [
       "<Figure size 800x300 with 1 Axes>"
      ]
     },
     "metadata": {},
     "output_type": "display_data"
    }
   ],
   "source": [
    "# histograma duración de erupciones con 8 barras\n",
    "faithful['eruptions'].hist(bins=8) \n",
    "plt.xlabel(\"Duración en minutos\")\n",
    "plt.ylabel(\"Frecuencia\")\n",
    "plt.show()"
   ]
  },
  {
   "cell_type": "markdown",
   "id": "569d688b",
   "metadata": {},
   "source": [
    "## Distribución de frecuencia\n",
    "---\n",
    "\n",
    "Un tema íntimamente relacionado con los histogramas son las tablas de distribución de frecuencia, en definitiva los histogramas no son más que gráficos de tablas de distribución de frecuencia. La distribución de frecuencia de una variable cuantitativa consiste en un resumen de la ocurrencia de un dato dentro de una colección de categorías que no se superponen.\n",
    "\n",
    "Estas categorías las vamos a poder armar según nuestra conveniencia y lo que queramos analizar. Por ejemplo si quisiéramos armar la distribución de frecuencia de la variable eruptions podríamos realizar las siguiente manipulaciones con Pandas:"
   ]
  },
  {
   "cell_type": "code",
   "execution_count": 19,
   "id": "c21e3e63",
   "metadata": {},
   "outputs": [
    {
     "data": {
      "text/plain": [
       "(4.0, 4.5]    75\n",
       "(1.5, 2.0]    55\n",
       "(4.5, 5.0]    54\n",
       "(2.0, 2.5]    37\n",
       "(3.5, 4.0]    34\n",
       "(3.0, 3.5]     9\n",
       "(2.5, 3.0]     5\n",
       "(5.0, 5.5]     3\n",
       "Name: eruptions, dtype: int64"
      ]
     },
     "execution_count": 19,
     "metadata": {},
     "output_type": "execute_result"
    }
   ],
   "source": [
    "# Distribución de frecuencia.\n",
    "# 1ro creamos un rango para las categorías.\n",
    "contenedores = np.arange(1.5, 6., 0.5)\n",
    "\n",
    "# luego cortamos los datos en cada contenedor \n",
    "frec = pd.cut(faithful['eruptions'], contenedores)\n",
    "\n",
    "# por último hacemos el recuento de los contenedores\n",
    "# para armar la tabla de frecuencia.\n",
    "tabla_frec = pd.value_counts(frec)\n",
    "tabla_frec"
   ]
  },
  {
   "cell_type": "markdown",
   "id": "c27f1172",
   "metadata": {},
   "source": [
    "Como nos nuestra esta tabla de distribución de frecuencia, la duración que más veces ocurre para las erupciones, se encuentran en el rango de 4 a 4.5 minutos.\n"
   ]
  },
  {
   "cell_type": "markdown",
   "id": "a94765e4",
   "metadata": {},
   "source": [
    "## Diagrama de dispersión\n",
    "---\n",
    "\n",
    "Hasta aquí venimos graficando únicamente una sola variable cuantitativa pero **¿qué pasa si queremos trabajar con dos variables?** Para estos casos existe el diagrama de dispersión. \n",
    "\n",
    "El *diagrama de dispersión* es una de las formas más comunes que existen para visualizar datos y constituye una de las mejores forma de observar relaciones entre dos variables cuantitativas. \n",
    "\n",
    "Veremos que se puede observar un montón de cosas por el solo hecho de mirar. \n",
    "\n",
    "---\n",
    "Este diagrama es una de las mejores formas de visualizar las asociaciones que pueden existir entre nuestros datos.\n",
    "\n",
    "El diagrama de dispersión empareja los valores de dos variables cuantitativas y luego los representa como puntos geométricos dentro de un diagrama cartesiano. \n",
    "\n",
    "Por ejemplo, volviendo a nuestro dataset faithful, podríamos emparejar a las variables eruptions y waiting en la misma observación como coordenadas (x, y) y luego graficarlas en el eje cartesiano. \n",
    "\n",
    "Con la ayuda de Python podríamos generar el diagrama de dispersión del siguiente modo:"
   ]
  },
  {
   "cell_type": "code",
   "execution_count": 20,
   "id": "6981de7e",
   "metadata": {},
   "outputs": [
    {
     "data": {
      "image/png": "[encoded data removed]",
      "text/plain": [
       "<Figure size 800x300 with 1 Axes>"
      ]
     },
     "metadata": {},
     "output_type": "display_data"
    }
   ],
   "source": [
    "# diagrama de dispersión\n",
    "disp= faithful.plot(kind='scatter', x='eruptions', y='waiting')"
   ]
  }
 ],
 "metadata": {
  "kernelspec": {
   "display_name": "Python 3 (ipykernel)",
   "language": "python",
   "name": "python3"
  },
  "language_info": {
   "codemirror_mode": {
    "name": "ipython",
    "version": 3
   },
   "file_extension": ".py",
   "mimetype": "text/x-python",
   "name": "python",
   "nbconvert_exporter": "python",
   "pygments_lexer": "ipython3",
   "version": "3.9.13"
  }
 },
 "nbformat": 4,
 "nbformat_minor": 5
}
