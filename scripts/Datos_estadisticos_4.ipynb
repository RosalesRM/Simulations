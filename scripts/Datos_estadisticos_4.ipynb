{
 "cells": [
  {
   "cell_type": "markdown",
   "id": "c994f357",
   "metadata": {},
   "source": [
    "<a href=\"https://colab.research.google.com/github/DCDPUAEM/DCDP/blob/main/01%20Programaci%C3%B3n%20en%20Python/notebooks/Estadistica/Datos_estadisticos_4.ipynb\" target=\"_parent\"><img src=\"https://colab.research.google.com/assets/colab-badge.svg\" alt=\"Open In Colab\"/></a>"
   ]
  },
  {
   "cell_type": "code",
   "execution_count": 2,
   "id": "45e20466",
   "metadata": {},
   "outputs": [],
   "source": [
    "# importando modulos necesarios\n",
    "\n",
    "import numpy as np\n",
    "import pandas as pd\n",
    "import seaborn as sns\n",
    "\n",
    "import matplotlib.pyplot as plt\n",
    "from matplotlib.pyplot import figure\n",
    "\n",
    "from scipy import stats\n",
    "from scipy.stats import gmean, hmean, trim_mean, uniform, norm\n",
    "from scipy.stats import shapiro"
   ]
  },
  {
   "cell_type": "markdown",
   "id": "f207b9c7",
   "metadata": {},
   "source": [
    "![alt text](https://sphweb.bumc.bu.edu/otlt/MPH-Modules/BS/BS704_HypothesisTest-Means-Proportions/Means-Proportions-Wordle.png)\n",
    "\n",
    "En esta sección se dará una breve introducción sobre este tema que puede causar muchos dolores de cabeza al estar aprendiendo acerca del manejo de datos.\n",
    "\n",
    "Se abordan todos esos conceptos y con ejemplos usando Python.\n",
    "\n",
    "----\n",
    "\n",
    "* ## ¿Qué es una prueba de hipótesis? \n",
    "* ### ¿Porqué debemos usarlas? \n",
    "* #### ¿Cuáles son las bases de las hipótesis?\n",
    "* #### ¿Cuáles son los parámetros importantes de dichas pruebas?\n",
    "\n",
    "---\n",
    "\n",
    "\n"
   ]
  },
  {
   "cell_type": "markdown",
   "id": "ab15adde",
   "metadata": {},
   "source": [
    "----\n",
    "\n",
    "Empecemos por la primera pregunta...\n",
    "\n",
    "* ## ¿Qué es una prueba de hipótesis?\n",
    "\n",
    "Las pruebas de hipótesis son utilizados para la toma de decisiones **estadísticas**, utilizando datos experimentales. En palabras burdas, es el pan de cada día de las estadísticas inferenciales y una habilidad crítica en el repertorio de un científico de datos."
   ]
  },
  {
   "cell_type": "markdown",
   "id": "99daf9e1",
   "metadata": {},
   "source": [
    "* ## ¿Porqué usamos las pruebas de hipótesis?\n",
    "\n",
    "La prueba de hipótesis es un procedimiento esencial en estadística. Una prueba de hipótesis evalúa dos afirmaciones mutuamente excluyentes sobre una **población** para determinar qué afirmación es mejor respaldada por los datos de la *muestra*. Cuando decimos que un hallazgo es estadísticamente significativo, es gracias a una prueba de hipótesis.\n",
    "\n",
    "<font color=red> Las pruebas de hipótesis son una herramienta crítica en **estadística inferencial**, para determinar cuál podría ser el valor de un parámetro de **población**. A menudo sacamos esta conclusión basada en un análisis de datos de muestra....</font>"
   ]
  },
  {
   "cell_type": "markdown",
   "id": "99b68bf4",
   "metadata": {},
   "source": [
    "---\n",
    "---\n",
    "\n",
    "* ## ¿Cuales son las bases de las hipótesis? \n",
    "\n",
    "   * ### Hipótesis Nula\n",
    "   * ### Hipótesis Alterna\n",
    "\n",
    "---\n",
    "\n",
    "Hipótesis nula (H0): - En la estadística inferencial, la hipótesis nula es una declaración general o suposición predeterminada de que no hay relación entre dos fenómenos medidos, o no hay asociación entre grupos\n",
    "\n",
    "En otras palabras, es una suposición básica o basada en el dominio o el conocimiento del problema.\n",
    "\n",
    "Ejemplo: la producción de una empresa es = 50 unidades / por día, etc.\n",
    "\n",
    "---\n",
    "\n",
    "Hipótesis alterna (H1): - Es la hipótesis contraria a la hipótesis nula. Por lo general, se considera que las observaciones son el resultado de un efecto real (con cierta cantidad de variación de probabilidad superpuesta)\n",
    "\n",
    "Ejemplo: la producción de una empresa es ! = 50 unidades / por día, etc.\n",
    "\n",
    "---\n",
    "<font color=\"red\">**Por lo tanto, el proceso de prueba de hipótesis consiste en formular preguntas sobre los datos en función de la información recopilada y probarlas utilizando métodos estadísticos.**</font>"
   ]
  },
  {
   "cell_type": "markdown",
   "id": "a39dab3a",
   "metadata": {},
   "source": [
    "---\n",
    "\n",
    "### A continuación mostramos un pequeño ejemplo utilizando la prueba estadística Shapiro - Wilks\n",
    "Esta prueba confirma si una muestra presenta una distribución normal(H0) o no (H1). \n",
    "\n",
    "Mayor información de la librería pueden consultar el siguiente [artículo](https://docs.scipy.org/doc/scipy/reference/generated/scipy.stats.shapiro.html) y el [artículo](https://en.wikipedia.org/wiki/Shapiro%E2%80%93Wilk_test) siguiente para la prueba estadística. "
   ]
  },
  {
   "cell_type": "code",
   "execution_count": 7,
   "id": "024ba45c",
   "metadata": {},
   "outputs": [
    {
     "name": "stdout",
     "output_type": "stream",
     "text": [
      "stat=0.895, p=0.193\n",
      "Probably Gaussian\n"
     ]
    },
    {
     "name": "stderr",
     "output_type": "stream",
     "text": [
      "C:\\Users\\beyon\\anaconda3\\lib\\site-packages\\seaborn\\distributions.py:2619: FutureWarning: `distplot` is a deprecated function and will be removed in a future version. Please adapt your code to use either `displot` (a figure-level function with similar flexibility) or `histplot` (an axes-level function for histograms).\n",
      "  warnings.warn(msg, FutureWarning)\n"
     ]
    },
    {
     "data": {
      "text/plain": [
       "<AxesSubplot:ylabel='Density'>"
      ]
     },
     "execution_count": 7,
     "metadata": {},
     "output_type": "execute_result"
    },
    {
     "data": {
      "image/png": "[encoded data removed]",
      "text/plain": [
       "<Figure size 640x480 with 1 Axes>"
      ]
     },
     "metadata": {},
     "output_type": "display_data"
    }
   ],
   "source": [
    "data = [0.873, 2.817, 0.121, -0.945, -0.055, -1.436, 0.360, -1.478, -1.637, -1.869]\n",
    "stat, p = shapiro(data)\n",
    "print('stat=%.3f, p=%.3f' % (stat, p))\n",
    "\n",
    "'''\n",
    "El valor crítico de shapiro para n = 10 es  cv = 0.842\n",
    "El estadistico calculado es stat = 0.895\n",
    "Aquí podemos ver que stat > cv  <- Aceptamos H1 (Rechazamos H0)\n",
    "\n",
    "Recordemos este planteamiento. \n",
    "\n",
    "Nuestros datos no son Gaussianos (H0), \n",
    "Nuestos datos son Gaussianos (H1)\n",
    "\n",
    "Del mismo estadístico tenemos que \n",
    "The W statistic needs to be greater than the critical value for the \n",
    "null hypothesis that the samples are drawn from a Gaussian distribution not to be rejected\n",
    "'''\n",
    "\n",
    "\n",
    "if p > 0.05:\n",
    "    print('Probably Gaussian')\n",
    "else:\n",
    "    print('Probably not Gaussian')\n",
    "    \n",
    "sns.distplot(data)\n",
    "\n",
    "\n",
    "#Lo más recomendable es siempre basarnos en el valor del estadístico calculado (stat)\n",
    "#y tener un conocimiento de los valores críticos\n",
    "\n",
    "#Recordemos lo siguiente de la tabla de confusión\n",
    "\n",
    "#FF <- H0    FV <- Error Tipo 1\n",
    "#VF <- ET2   VV <- H1\n",
    "\n",
    "#Cuando ustedes tienen conocimiento de los estadísticos y los valores críticos\n",
    "\n",
    "#lo ideal es realizar esta comparación para las pruebas de hipótesis\n",
    "# Si STAT <= CV  <- Aceptamos H0 (Rechazamos H1)\n",
    "# Si STAT >  CV  <- Aceptamos H1 (Rechazamos H0)\n",
    "\n",
    "\n",
    "#Caso contrario, podríamos utilizar la evaluación del valor p-value  contra el alpha\n",
    "\n",
    "#Pero al utilizar p-value, las comparaciones pueden ser algo ambigüas, por el simple hecho de\n",
    "#estar ajustandolo para entender la respuesta de las pruebas de hipótesis.\n",
    "\n",
    "#Alpha <- Nivel de Significancia o Nivel de Confianza"
   ]
  },
  {
   "cell_type": "markdown",
   "id": "43be32a8",
   "metadata": {},
   "source": [
    "### Definición de error Tipo I  y  error Tipo II</center></h1>\n",
    "\n",
    "---\n",
    "\n",
    "* Error tipo I: cuando rechazamos la hipótesis nula, aunque esa hipótesis era cierta. El error tipo I se denota por alfa. En las pruebas de hipótesis, la curva normal que muestra la región crítica se llama región alfa\n",
    "\n",
    "* Errores de tipo II: cuando aceptamos la hipótesis nula pero es falsa. Los errores de tipo II se denotan por beta. En las pruebas de hipótesis, la curva normal que muestra la región de aceptación se llama región beta.\n",
    "\n",
    "![alt text](https://dp8v87cz8a7qa.cloudfront.net/45396/5bd20d03240611540492547.png)\n",
    "\n",
    "---\n",
    "\n",
    "* Prueba de una cola: - Una prueba de una hipótesis estadística, donde la región de rechazo está en un solo lado de la distribución de muestreo.\n",
    "\n",
    "Ejemplo: - una universidad tiene ≥ 4000 estudiantes o ciencia de datos ≤ 80%\n",
    "\n",
    "* Prueba de dos colas: una prueba de dos colas es una prueba estadística en la que el área crítica de una distribución es de dos lados y prueba si una muestra es mayor o menor que un cierto rango de valores. Si la muestra que se prueba cae en cualquiera de las áreas críticas, se acepta la hipótesis alternativa en lugar de la hipótesis nula.\n",
    "\n",
    "Ejemplo: una universidad! = 4000 estudiantes o ciencias de datos! = 80%\n"
   ]
  },
  {
   "cell_type": "markdown",
   "id": "913055ef",
   "metadata": {},
   "source": [
    "![img](https://miro.medium.com/max/424/1*frUEBVOzWvCKKfI212MM_Q.png)"
   ]
  },
  {
   "cell_type": "markdown",
   "id": "085d67a6",
   "metadata": {},
   "source": [
    "---\n",
    "### Definición de p-value y alpha</center></h1>\n",
    "\n",
    "---\n",
    "\n",
    "* Esta posibilidad de observar el estadístico de prueba, es el llamado **valor p (p - value)** y se calcula bajo el supuesto de una cierta distribución de probabilidad (a partir de la cual se genera el estadístico de prueba).\n",
    "\n",
    "* **Nivel de significancia ($\\alpha$)**: se refiere al grado de significancia en el que aceptamos o rechazamos la hipótesis nula. El 100% de precisión no es posible para aceptar o rechazar una hipótesis, por lo que seleccionamos un nivel de 0.05 o 5% (flexible con los datos...), lo que significa que su producción debe tener un 95% de confianza para dar un tipo de resultado similar en cada muestra.\n",
    "\n",
    "Podemos consultar algo extra en la siguiente [liga](https://blog.minitab.com/en/adventures-in-statistics-2/how-to-correctly-interpret-p-values)\n",
    "\n",
    "---"
   ]
  },
  {
   "cell_type": "markdown",
   "id": "828bd726",
   "metadata": {},
   "source": [
    "#### Ejemplo\n",
    "\n",
    "Supongamos que estamos haciendo una comparativa del promedio del costo energético que hemos tenido de este año con respecto al anterior.\n",
    "\n",
    "Queremos determinar si nuestra media (330.6) indica que el costo promedio de energía de este año es significativamente diferente del costo promedio de energía del año pasado de 260.\n",
    "\n",
    "![img](https://blog.minitab.com/hubfs/Imported_Blog_Media/sampling_dist_null.png)"
   ]
  },
  {
   "cell_type": "markdown",
   "id": "ef49512a",
   "metadata": {},
   "source": [
    "La gráfica de distribución de probabilidad anterior muestra la distribución de las medias muestrales que obtendríamos bajo el supuesto de que la hipótesis nula es verdadera (media poblacional = 260) y extrajimos repetidamente una gran cantidad de muestras aleatorias.\n",
    "\n",
    "¿dónde trazamos la línea de significancia estadística en el gráfico? Ahora agregaremos el nivel de significancia (alfa) y el valor P, que son las herramientas de toma de decisiones que necesitaremos.\n",
    "\n",
    "Usaremos estas herramientas para probar las siguientes hipótesis:\n",
    "\n",
    "    Hipótesis nula: La media poblacional es igual a la media hipotética (260).\n",
    "    Hipótesis alternativa: La media poblacional difiere de la media hipotética (260)."
   ]
  },
  {
   "cell_type": "markdown",
   "id": "5695e01e",
   "metadata": {},
   "source": [
    "#### ¿Qué es el nivel de significancia (alfa)?\n",
    "\n",
    "El nivel de significancia, también denominado alfa o α, es la probabilidad de rechazar la hipótesis nula cuando es verdadera. Por ejemplo, un nivel de 0,05 indica un riesgo del 5 % de concluir que existe una diferencia cuando no hay una diferencia real.\n",
    "\n",
    "Este tipo de definiciones pueden ser difíciles de entender debido a su naturaleza técnica. ¡Una imagen hace que los conceptos sean mucho más fáciles de comprender!\n",
    "\n",
    "El nivel de significancia determina qué tan lejos del valor de la hipótesis nula dibujaremos esa línea en el gráfico. Para graficar un nivel de significancia de 0.05, necesitamos sombrear el 5% de la distribución que está más alejado de la hipótesis nula.\n",
    "\n",
    "![img](https://blog.minitab.com/hubfs/Imported_Blog_Media/sig_level_05.png)"
   ]
  },
  {
   "cell_type": "markdown",
   "id": "07f5faf3",
   "metadata": {},
   "source": [
    "En el gráfico anterior, las dos áreas sombreadas son equidistantes del valor de la hipótesis nula y cada área tiene una probabilidad de 0.025, para un total de 0.05. En estadística, llamamos a estas áreas sombreadas la región crítica para una prueba de dos colas. \n",
    "\n",
    "Si la media de la población es 260, esperaríamos obtener una media muestral que caiga en la región crítica el 5% de las veces. La región crítica define qué tan lejos debe estar nuestro estadístico muestral del valor de la hipótesis nula antes de que podamos decir que es lo suficientemente inusual como para rechazar la hipótesis nula."
   ]
  },
  {
   "cell_type": "markdown",
   "id": "438989b5",
   "metadata": {},
   "source": [
    "Nuestra media muestral (330.6) cae dentro de la región crítica, lo que indica que es estadísticamente significativa en el nivel 0.05.\n",
    "\n",
    "También podemos ver si es estadísticamente significativo utilizando el otro nivel de significación común de 0.01.\n",
    "\n",
    "![img](https://blog.minitab.com/hubfs/Imported_Blog_Media/sig_level_01.png)"
   ]
  },
  {
   "cell_type": "markdown",
   "id": "bf82529c",
   "metadata": {},
   "source": [
    "Las dos áreas sombreadas tienen cada una una probabilidad de 0.005, lo que suma una probabilidad total de 0.01. Esta vez nuestra media muestral no cae dentro de la región crítica y no podemos rechazar la hipótesis nula. Esta comparación muestra por qué necesita elegir su nivel de significancia antes de comenzar su estudio. ¡Lo protege de elegir un nivel de significancia porque convenientemente le brinda resultados significativos!\n",
    "\n",
    "Gracias al gráfico, pudimos determinar que nuestros resultados son estadísticamente significativos al nivel 0.05 sin usar un valor P.\n"
   ]
  },
  {
   "cell_type": "markdown",
   "id": "3d0983f4",
   "metadata": {},
   "source": [
    "####  ¿Qué son los valores P?\n",
    "\n",
    "Los valores P son la probabilidad de obtener un efecto al menos tan extremo como el de los datos de su muestra, asumiendo la verdad de la hipótesis nula.\n",
    "\n",
    "Esta definición de valores P, aunque técnicamente correcta, es un poco complicada. ¡Es más fácil de entender con un gráfico!\n",
    "\n",
    "Para graficar el valor P para nuestro conjunto de datos del ejemplo, necesitamos determinar la distancia entre la media de la muestra y el valor de la hipótesis nula (330.6 - 260 = 70.6). A continuación, podemos graficar la probabilidad de obtener una media muestral que sea al menos igual de extrema en ambas colas de la distribución (260 +/- 70.6).\n"
   ]
  },
  {
   "cell_type": "markdown",
   "id": "805640ed",
   "metadata": {},
   "source": [
    "En el gráfico anterior, las dos áreas sombreadas tienen cada una una probabilidad de 0.01556, para una probabilidad total de 0.03112. Esto representa la probabilidad de obtener una media muestral que sea al menos tan extrema como nuestra media muestral en ambas colas de la distribución si la media poblacional es 260. ¡Ese es nuestro valor P!\n",
    "\n",
    "Cuando un valor P es menor o igual que el nivel de significancia, se rechaza la hipótesis nula. Si tomamos el valor P para nuestro ejemplo y lo comparamos con los niveles comunes, coincide con los resultados gráficos anteriores. El valor P de 0.03112 es estadísticamente significativo a un nivel alfa de 0.05, pero no a un nivel de 0.01.\n",
    "\n",
    "Si nos ceñimos a un nivel de 0.05, podemos concluir que el coste energético medio de la población es superior a 260.\n",
    "\n",
    "Un error común es interpretar el valor P como la probabilidad de que la hipótesis nula sea verdadera."
   ]
  },
  {
   "cell_type": "markdown",
   "id": "022c24f7",
   "metadata": {},
   "source": [
    "<font color=\"red\">Tenga en cuenta que no existe un nivel de significancia mágico que distinga entre los estudios que tienen un efecto verdadero y los que no lo tienen con un 100 % de precisión. </font>\n",
    "    \n",
    "<font color=\"blue\">Los valores alfa comunes de 0.05 y 0.01 se basan simplemente en la tradición. Para un nivel de de 0.05, espere obtener medias muestrales en la región crítica el 5 % de las veces cuando la hipótesis nula sea verdadera. En estos casos, no sabrá que la hipótesis nula es verdadera, pero la rechazará porque la media de la muestra se encuentra en la región crítica. ¡Es por eso que el nivel de significancia también se conoce como tasa de error!</font>\n",
    "\n"
   ]
  },
  {
   "cell_type": "markdown",
   "id": "3c7116d9",
   "metadata": {},
   "source": [
    "---\n",
    "---\n",
    "---\n",
    "<a id=\"f\"></a>\n",
    "<h1><center>Referencias y links de interés</center></h1>\n",
    "\n",
    "[Regreso a contenido](#contenido)\n",
    "\n",
    "---\n",
    "\n",
    "* [Información de pruebas estadísticas](https://towardsdatascience.com/statistical-tests-when-to-use-which-704557554740)\n",
    "* Prueba [Shapiro en python](https://docs.scipy.org/doc/scipy/reference/generated/scipy.stats.shapiro.html)\n",
    "* Formula de [Shapiro](https://en.wikipedia.org/wiki/Shapiro%E2%80%93Wilk_test)\n",
    "* Pruebas de [normalidad](https://towardsdatascience.com/normality-tests-in-python-31e04aa4f411)\n",
    "* Pruebas de [multinormalidad](https://www.statology.org/multivariate-normality-test-python/)\n",
    "---\n",
    "\n",
    "* M. Zhoua and Y. Shaob (2014) [A Powerful Test for Multivariate Normality](https://www.ncbi.nlm.nih.gov/pmc/articles/PMC3927875/)\n",
    "* Algunos links de interés para [pruebas de normalidad](https://www.statology.org/python-guides/)\n",
    "\n",
    "* Valores críticos [Shapiro-Wilk test](https://scistatcalc.blogspot.com/2013/09/critical-value-of-w-statistic.html?m=0)\n",
    "* Entendimiento de pruebas de hipótesis: [p-value y alpha](https://blog.minitab.com/en/adventures-in-statistics-2/understanding-hypothesis-tests-significance-levels-alpha-and-p-values-in-statistics)\n"
   ]
  }
 ],
 "metadata": {
  "kernelspec": {
   "display_name": "Python 3 (ipykernel)",
   "language": "python",
   "name": "python3"
  },
  "language_info": {
   "codemirror_mode": {
    "name": "ipython",
    "version": 3
   },
   "file_extension": ".py",
   "mimetype": "text/x-python",
   "name": "python",
   "nbconvert_exporter": "python",
   "pygments_lexer": "ipython3",
   "version": "3.9.13"
  }
 },
 "nbformat": 4,
 "nbformat_minor": 5
}
