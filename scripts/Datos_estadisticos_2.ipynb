{
 "cells": [
  {
   "cell_type": "markdown",
   "id": "c994f357",
   "metadata": {},
   "source": [
    "<a href=\"https://colab.research.google.com/github/DCDPUAEM/DCDP/blob/main/01%20Programaci%C3%B3n%20en%20Python/notebooks/Estadistica/Datos_estadisticos_2.ipynb\" target=\"_parent\"><img src=\"https://colab.research.google.com/assets/colab-badge.svg\" alt=\"Open In Colab\"/></a>"
   ]
  },
  {
   "cell_type": "code",
   "execution_count": 1,
   "id": "4cb6dad5",
   "metadata": {},
   "outputs": [],
   "source": [
    "# importando modulos necesarios\n",
    "\n",
    "import numpy as np\n",
    "import pandas as pd\n",
    "import seaborn as sns\n",
    "\n",
    "import matplotlib.pyplot as plt\n",
    "from matplotlib.pyplot import figure\n",
    "\n",
    "from scipy.stats import gmean, hmean, trim_mean\n",
    "\n",
    "#Se debe recordar que para la primera ejecución de este código, \n",
    "#se debe habilidar la instalación de 'pydataset'\n",
    "#!pip install pydataset\n",
    "from pydataset import data\n",
    "faithful = data('faithful')"
   ]
  },
  {
   "cell_type": "markdown",
   "id": "6746a5c9",
   "metadata": {},
   "source": [
    "\n",
    "# Medidas Principales\n",
    "\n",
    "\n",
    "## [Tendencia Central](https://es.wikipedia.org/wiki/Medidas_de_tendencia_central)  y [Dispersión](https://es.wikipedia.org/wiki/Medidas_de_dispersi%C3%B3n) \n",
    "\n",
    "---\n",
    "Una vez que ya nos dimos una buena idea visual de como se distribuyen los datos y de las relaciones que pueden existir entre los mismos, podemos pasar a calcular medidas numéricas propias de la estadística descriptiva. \n",
    "\n",
    "En general, suele ser interesante conocer cual puede ser el promedio o valor central al que tiende la distribución de nuestros datos, para esto se utilizan las medidas de tendencia central, entre las que podemos encontrar a:\n",
    "\n",
    "   * La media aritmética (mean)\n",
    "   \n",
    "   $$ \\sum \\limits_{i=1}^{\\infty}\\frac{x_i}{n} $$\n",
    "   \n",
    "   \n",
    "   * La media geométrica (geometric mean)\n",
    "   \n",
    "   $$\\sqrt[n]{\\prod_{i=1}^{\\infty}x_{i}} $$\n",
    "   \n",
    "   * La media armónica (harmonic mean)\n",
    "   \n",
    "   $$(\\sum \\limits_{i=1}^{\\infty}\\frac{x_i^{-1}}{n})^{-1}$$\n",
    "   \n",
    "   * La mediana (median)\n",
    "   \n",
    "   $$\\begin{cases}\n",
    "  (X_\\frac{n}{2})^{th}+({X_\\frac{n}{2}}+1)^{th} & \\text{if $n = even$} \\\\\n",
    "  (X_\\frac{n+1}{2})^{th} & \\text{if $n = odd$}\n",
    "\\end{cases}\n",
    "   $$\n",
    "   \n",
    "   * La media truncada (o trimedia; trimean)\n",
    "   \n",
    "   $$\\frac{(Q_1 + (2*Q_2) + Q_3)}{4}$$\n",
    "   \n",
    "   \n",
    "   * La moda (mode)\n",
    "   \n",
    "\n",
    "---------\n",
    "\n",
    "Por un lado, la Media corresponde al punto de equilibrio que toma en cuenta la ubicación y el peso de cada dato. Mientras que la Mediana solo toma en cuenta la ubicación, correspondiendo al percentil 50, es decir, divide la muestra en dos grupos con igual cantidad de datos. Por otro lado, la Moda representa el punto de mayor concentración de datos en una muestra, pudiéndose incluso obtener varias modas.\n",
    "\n",
    "--------\n",
    "\n",
    "Nota: <font color=\"red\">La **estadística robusta** es una aproximación alternativa a los métodos estadísticos clásicos. El objeto es producir estimadores que no sean afectados por variaciones pequeñas respecto a las hipótesis de los modelos.\n",
    "\n",
    "Las estadísticas robustas intentan proporcionar métodos que emulan a los métodos clásicos, pero que no son afectados indebidamente por valores atípicos u otras pequeñas discrepancias respecto de las asunciones del modelo (Hasta un 40% sin verse afectados).</font>"
   ]
  },
  {
   "cell_type": "markdown",
   "id": "155e09ef",
   "metadata": {},
   "source": [
    "![img](https://sites.google.com/site/estadisticalfrecuencia/_/rsrc/1474234535482/e/fgdfgdf/Capturacompzracion%20de%20ladmedias.PNG)"
   ]
  },
  {
   "cell_type": "markdown",
   "id": "e5991c42",
   "metadata": {},
   "source": [
    "### Un ejemplo de media geométrica\n",
    "\n",
    "Supongamos los resultados de una empresa. La empresa ha generado un 20% de rentabilidad el primer año, un 15% el segundo año, un 33% el tercer año y un 25% el cuarto año. Lo fácil, en este caso sería sumar las cantidades y dividir entre cuatro. Sin embargo esto no es correcto.\n",
    "\n",
    "Para calcular la media de varios porcentajes debemos hacer uso de la media geométrica. Aplicado al caso anterior, tendríamos lo siguiente:\n",
    "\n",
    "   $$Media geométrica = \\sqrt[n]{1.20 * 1.15 * 1.33 * 1.25} $$\n",
    "   \n",
    "   $$Media geométrica = \\sqrt[n]{2.29425} = 1.23 $$"
   ]
  },
  {
   "cell_type": "markdown",
   "id": "4c1c0608",
   "metadata": {},
   "source": [
    "El resultado es 1.23, que expresado en porcentaje es un 23%. Lo que quiere decir que en promedio, cada año la empresa ha ganado un 23%. Dicho de otra forma, si cada año hubiese ganado un 23%, hubiera ganado lo mismo que ganando un 20% el primer año, un 15% el segundo, un 33% el tercero y un 25% el último año.\n",
    "\n",
    "NOTA: Si las rentabilidades fueran negativas, no se pondrían números negativos. Si la rentabilidad es del -20%, el número a multiplicar sería 0,80. Si la rentabilidad es del -5%, el número a multiplicar sería 0,95. En conclusión si las rentabilidades son positivas, a uno le sumamos el porcentaje en tanto por uno. Mientras que, si las rentabilidades o porcentajes son negativos, a 1 le restamos el porcentaje en tanto por uno."
   ]
  },
  {
   "cell_type": "markdown",
   "id": "30f128ad",
   "metadata": {},
   "source": [
    "### A continuación, veamos un ejemplo de la media armónica\n",
    "\n",
    "Supongamos que una persona decide salir a correr 10km. Los primeros 2 km corre a 15 km/h, los siguiente 2km, a 17 km/h, los siguientes 2km, a 14 km/h, y los otros dos tramos de 2km, a 13 km/h y 12 km/h, respectivamente.\n",
    "\n",
    "En este ejemplo, la media armónica se calcularía de la siguiente manera:\n",
    "\n",
    "$$H = (\\frac{5}{\\frac{1}{15} + \\frac{1}{17} + \\frac{1}{14} + \\frac{1}{13} + \\frac{1}{12}})$$\n",
    "\n",
    "$$H = (\\frac{5}{0.0667 + 0.0588 + 0.0714 + 0.0769 + 0.0833})$$\n",
    "\n",
    "$$H = (\\frac{5}{0.3572}) = 13.9987$$"
   ]
  },
  {
   "cell_type": "markdown",
   "id": "5b71377e",
   "metadata": {},
   "source": [
    "Veamos como podemos calcularlas con Python:"
   ]
  },
  {
   "cell_type": "code",
   "execution_count": 2,
   "id": "34cd2d2e",
   "metadata": {},
   "outputs": [
    {
     "name": "stdout",
     "output_type": "stream",
     "text": [
      "3.4877830882352936\n",
      "4.0\n",
      "0    1.867\n",
      "1    4.500\n",
      "Name: eruptions, dtype: float64\n"
     ]
    }
   ],
   "source": [
    "# media de variable eruptions\n",
    "print(faithful['eruptions'].mean())\n",
    "\n",
    "# mediana\n",
    "print(faithful['eruptions'].median())\n",
    "\n",
    "# moda\n",
    "print(faithful['eruptions'].mode())"
   ]
  },
  {
   "cell_type": "code",
   "execution_count": 3,
   "id": "c2041daa",
   "metadata": {},
   "outputs": [
    {
     "data": {
      "text/plain": [
       "3.2713131325361786"
      ]
     },
     "execution_count": 3,
     "metadata": {},
     "output_type": "execute_result"
    }
   ],
   "source": [
    "from scipy.stats import gmean \n",
    "# media geométrica\n",
    "gmean(faithful['eruptions'])"
   ]
  },
  {
   "cell_type": "code",
   "execution_count": 4,
   "id": "99c6f540",
   "metadata": {},
   "outputs": [
    {
     "data": {
      "text/plain": [
       "3.0389330499472607"
      ]
     },
     "execution_count": 4,
     "metadata": {},
     "output_type": "execute_result"
    }
   ],
   "source": [
    "from scipy.stats import hmean \n",
    "# media armónica\n",
    "hmean(faithful['eruptions'])"
   ]
  },
  {
   "cell_type": "code",
   "execution_count": 5,
   "id": "5c850f6c",
   "metadata": {},
   "outputs": [
    {
     "data": {
      "text/plain": [
       "3.5298073394495413"
      ]
     },
     "execution_count": 5,
     "metadata": {},
     "output_type": "execute_result"
    }
   ],
   "source": [
    "from scipy.stats import trim_mean \n",
    "# media truncada, recortando el 10 superior e inferior\n",
    "trim_mean(faithful['eruptions'], .10)"
   ]
  },
  {
   "cell_type": "code",
   "execution_count": 6,
   "id": "51bfe658",
   "metadata": {},
   "outputs": [
    {
     "data": {
      "text/plain": [
       "<matplotlib.lines.Line2D at 0x24bb12515b0>"
      ]
     },
     "execution_count": 6,
     "metadata": {},
     "output_type": "execute_result"
    },
    {
     "data": {
      "image/png": "[encoded data removed]",
      "text/plain": [
       "<Figure size 640x480 with 1 Axes>"
      ]
     },
     "metadata": {},
     "output_type": "display_data"
    }
   ],
   "source": [
    "x = faithful['eruptions']\n",
    "result = plt.hist(x, bins=50, color='c', edgecolor='k', alpha=0.65)\n",
    "plt.axvline(x.mean(), color='red', linestyle='dashed', linewidth=2)\n",
    "plt.axvline(trim_mean(x, .25), color='green', linestyle='dashed', linewidth=2)\n",
    "plt.axvline(gmean(x), color='black', linestyle='dashed', linewidth=2)\n",
    "plt.axvline(x.median(), color='blue', linestyle='dashed', linewidth=2)\n",
    "\n",
    "a = x.mode().astype(float)\n",
    "a1 = a[0]\n",
    "a2 = a[1]\n",
    "\n",
    "plt.axvline(a1, color='purple', linestyle='dashed', linewidth=2)\n",
    "plt.axvline(a2, color='purple', linestyle='dashed', linewidth=2)"
   ]
  },
  {
   "cell_type": "code",
   "execution_count": 7,
   "id": "e3464029",
   "metadata": {},
   "outputs": [
    {
     "data": {
      "text/plain": [
       "<matplotlib.lines.Line2D at 0x24bb1251550>"
      ]
     },
     "execution_count": 7,
     "metadata": {},
     "output_type": "execute_result"
    },
    {
     "data": {
      "image/png": "[encoded data removed]",
      "text/plain": [
       "<Figure size 640x480 with 1 Axes>"
      ]
     },
     "metadata": {},
     "output_type": "display_data"
    }
   ],
   "source": [
    "y = faithful[faithful['eruptions']>3.0]\n",
    "x = y['eruptions']\n",
    "result = plt.hist(x, bins=50, color='c', edgecolor='k', alpha=0.65)\n",
    "plt.axvline(x.mean(), color='red', linestyle='dashed', linewidth=2)\n",
    "plt.axvline(trim_mean(x, .25), color='green', linestyle='dashed', linewidth=2)\n",
    "plt.axvline(gmean(x), color='black', linestyle='dashed', linewidth=2)\n",
    "plt.axvline(x.median(), color='blue', linestyle='dashed', linewidth=2)\n",
    "\n",
    "a = x.mode().astype(float)\n",
    "a1 = a[0]\n",
    "\n",
    "plt.axvline(a1, color='purple', linestyle='dashed', linewidth=2)"
   ]
  },
  {
   "cell_type": "code",
   "execution_count": 8,
   "id": "d235a92b",
   "metadata": {},
   "outputs": [
    {
     "data": {
      "text/plain": [
       "<matplotlib.lines.Line2D at 0x24bb134a790>"
      ]
     },
     "execution_count": 8,
     "metadata": {},
     "output_type": "execute_result"
    },
    {
     "data": {
      "image/png": "[encoded data removed]",
      "text/plain": [
       "<Figure size 640x480 with 1 Axes>"
      ]
     },
     "metadata": {},
     "output_type": "display_data"
    }
   ],
   "source": [
    "z = faithful[faithful['eruptions']<=3.0]\n",
    "x = z['eruptions']\n",
    "result = plt.hist(x, bins=50, color='c', edgecolor='k', alpha=0.65)\n",
    "plt.axvline(x.mean(), color='red', linestyle='dashed', linewidth=2)\n",
    "plt.axvline(trim_mean(x, .25), color='green', linestyle='dashed', linewidth=2)\n",
    "plt.axvline(gmean(x), color='black', linestyle='dashed', linewidth=2)\n",
    "plt.axvline(x.median(), color='blue', linestyle='dashed', linewidth=2)\n",
    "\n",
    "a = x.mode().astype(float)\n",
    "a1 = a[0]\n",
    "\n",
    "plt.axvline(a1, color='purple', linestyle='dashed', linewidth=2)"
   ]
  },
  {
   "cell_type": "markdown",
   "id": "00f516d9",
   "metadata": {},
   "source": [
    "## Medidas de dispersión\n",
    "\n",
    "---\n",
    "Las medidas de tendencia central no son las únicas medidas de resumen estadístico que podemos calcular; otras medidas también de gran importancia son las **medidas de dispersión**. \n",
    "\n",
    "Las medidas de dispersión, también llamadas medidas de variabilidad, muestran la variabilidad de una distribución, indicando por medio de un número si las diferentes puntuaciones de una variable están muy alejadas de la media. Cuanto mayor sea ese valor, mayor será la variabilidad, y cuanto menor sea, más homogénea será a la media.\n",
    "\n",
    "---\n",
    "Así se sabe si todos los casos son parecidos o varían mucho entre ellos. Las principales medidas de dispersión son:\n",
    "   * Varianza (variance)\n",
    "   \n",
    "   $$ \\sum \\limits_{i=1}^{\\infty}\\frac{(x_i-\\mu)^2}{N} $$\n",
    "   \n",
    "   * Desviación estándar (standard deviation)\n",
    "   \n",
    "   $$ \\sqrt{\\sum\\limits_{i=1}^{\\infty}\\frac{(x_i-\\bar{x})^2}{n-1}} $$\n",
    "   \n",
    "   * MAD (Desviación absoluta de la mediana; Median Absoulte Deviation)\n",
    "   \n",
    "   $$ median(|X_i - \\bar{X}|)$$\n",
    "   \n",
    "   * Cuartiles (Quartile)\n",
    "   \n",
    "   $$\\begin{cases}\n",
    "  Lower Quartile (Q1) & \\text{with $(N+1)*\\frac{1}{4}$} \\\\\n",
    "  Middle Quartile (Q2) & \\text{with $(N+1)*\\frac{2}{4}$} \\\\\n",
    "  Upper Quartile (Q3) & \\text{with $(N+1)*\\frac{3}{4}$} \n",
    "\\end{cases}\n",
    "   $$\n",
    "   \n",
    "   * Covarianza (Covariance)\n",
    "   \n",
    "   $$ COV(x,y) = {\\sum\\limits_{i=1}^{\\infty}\\frac{(x_i-\\bar{x})*(y_i-\\bar{y})}{n-1}} $$\n",
    "   \n",
    "   * Coeficiente de correlación (Correlation coefficient)\n",
    "\n",
    "    $$ r_{x,y} = \\frac{\\sum \\limits_{i=1}^{\\infty}(x_i-\\bar{x})*(y_i-\\bar{y})}{\\sqrt{\\sum \\limits_{i=1}^{\\infty}(x_i-\\bar{x})^{2}*(y_i-\\bar{y})^{2}}} $$\n",
    "\n",
    "Veamos como se calculan:"
   ]
  },
  {
   "cell_type": "code",
   "execution_count": 9,
   "id": "d6fca6db",
   "metadata": {},
   "outputs": [
    {
     "name": "stdout",
     "output_type": "stream",
     "text": [
      "1.3027283328494672\n",
      "1.1413712511052077\n",
      "1.0422532439446375\n"
     ]
    }
   ],
   "source": [
    "# varianza de variable eruptions\n",
    "print(faithful['eruptions'].var())\n",
    "\n",
    "# desviacion estandar\n",
    "print(faithful['eruptions'].std())\n",
    "\n",
    "# mad\n",
    "print(faithful['eruptions'].mad())"
   ]
  },
  {
   "cell_type": "code",
   "execution_count": 10,
   "id": "3cc1ea03",
   "metadata": {},
   "outputs": [
    {
     "data": {
      "text/plain": [
       "0.25    2.16275\n",
       "0.50    4.00000\n",
       "0.75    4.45425\n",
       "Name: eruptions, dtype: float64"
      ]
     },
     "execution_count": 10,
     "metadata": {},
     "output_type": "execute_result"
    }
   ],
   "source": [
    "# cuartiles\n",
    "faithful['eruptions'].quantile([.25, .5, .75])"
   ]
  },
  {
   "cell_type": "markdown",
   "id": "df4535c2",
   "metadata": {},
   "source": [
    "Un gráfico relacionado a los cuartiles y describe varias características importantes al mismo tiempo, tales como la dispersión y simetría es el **diagrama de caja**. \n",
    "\n",
    "Para su realización se representan los tres cuartiles y los valores mínimo y máximo de los datos, sobre un rectángulo, alineado horizontal o verticalmente. Podemos utilizar la función boxplot de Seaborn para generarlo."
   ]
  },
  {
   "cell_type": "code",
   "execution_count": 11,
   "id": "d3cdcfd3",
   "metadata": {},
   "outputs": [
    {
     "data": {
      "text/plain": [
       "<AxesSubplot:xlabel='eruptions'>"
      ]
     },
     "execution_count": 11,
     "metadata": {},
     "output_type": "execute_result"
    },
    {
     "data": {
      "image/png": "[encoded data removed]",
      "text/plain": [
       "<Figure size 640x480 with 1 Axes>"
      ]
     },
     "metadata": {},
     "output_type": "display_data"
    }
   ],
   "source": [
    "# diagrama de cajas\n",
    "sns.boxplot(x = faithful['eruptions'])"
   ]
  },
  {
   "cell_type": "code",
   "execution_count": 12,
   "id": "3293fa9b",
   "metadata": {},
   "outputs": [
    {
     "data": {
      "text/plain": [
       "<AxesSubplot:xlabel='eruptions'>"
      ]
     },
     "execution_count": 12,
     "metadata": {},
     "output_type": "execute_result"
    },
    {
     "data": {
      "image/png": "[encoded data removed]",
      "text/plain": [
       "<Figure size 640x480 with 1 Axes>"
      ]
     },
     "metadata": {},
     "output_type": "display_data"
    }
   ],
   "source": [
    "# diagrama de violin\n",
    "sns.violinplot(x = faithful['eruptions'])"
   ]
  },
  {
   "cell_type": "markdown",
   "id": "83fccd21",
   "metadata": {},
   "source": [
    "---\n",
    "### [Covarianza](https://es.wikipedia.org/wiki/Covarianza)  \n",
    "---\n",
    "\n",
    "La covarianza indica el sentido de la correlación entre las variables; Si es mayor que cero la correlación es directa, en caso de ser menor, la correlación es inversa. La podemos calcular utilizando el método cov."
   ]
  },
  {
   "cell_type": "code",
   "execution_count": 13,
   "id": "134a57fc",
   "metadata": {},
   "outputs": [
    {
     "data": {
      "text/html": [
       "<div>\n",
       "<style scoped>\n",
       "    .dataframe tbody tr th:only-of-type {\n",
       "        vertical-align: middle;\n",
       "    }\n",
       "\n",
       "    .dataframe tbody tr th {\n",
       "        vertical-align: top;\n",
       "    }\n",
       "\n",
       "    .dataframe thead th {\n",
       "        text-align: right;\n",
       "    }\n",
       "</style>\n",
       "<table border=\"1\" class=\"dataframe\">\n",
       "  <thead>\n",
       "    <tr style=\"text-align: right;\">\n",
       "      <th></th>\n",
       "      <th>eruptions</th>\n",
       "      <th>waiting</th>\n",
       "    </tr>\n",
       "  </thead>\n",
       "  <tbody>\n",
       "    <tr>\n",
       "      <th>eruptions</th>\n",
       "      <td>1.302728</td>\n",
       "      <td>13.977808</td>\n",
       "    </tr>\n",
       "    <tr>\n",
       "      <th>waiting</th>\n",
       "      <td>13.977808</td>\n",
       "      <td>184.823312</td>\n",
       "    </tr>\n",
       "  </tbody>\n",
       "</table>\n",
       "</div>"
      ],
      "text/plain": [
       "           eruptions     waiting\n",
       "eruptions   1.302728   13.977808\n",
       "waiting    13.977808  184.823312"
      ]
     },
     "execution_count": 13,
     "metadata": {},
     "output_type": "execute_result"
    }
   ],
   "source": [
    "# covarianza\n",
    "faithful.cov()"
   ]
  },
  {
   "cell_type": "markdown",
   "id": "3438ce29",
   "metadata": {},
   "source": [
    "### ¿Diferencia entre covarianza y correlación?\n",
    "\n",
    "La covarianza y la correlación son muy útiles para comprender la relación entre dos variables continuas. La covarianza indica si ambas variables cambian en la misma dirección (covarianza positiva) o en dirección opuesta (covarianza negativa).\n",
    "\n",
    "No hay importancia en el valor numérico de covarianza, solo el signo es útil. Mientras que la correlación explica sobre el cambio en una variable, indicando cuánto cambio de proporción hay con respecto a la segunda variable.\n",
    "\n",
    "La correlación varía entre -1 a +1. Si el valor de correlación es 0, significa que no existe una relación lineal entre las variables, sin embargo, puede existir otra relación funcional.\n",
    "\n",
    "--------\n",
    "\n",
    "En el estudio de la covarianza sólo el signo importa. El valor positivo muestra que ambas variables varían en la misma dirección y el valor negativo muestra que varían en la dirección opuesta.\n",
    "\n",
    "La covarianza entre dos variables x e y se puede calcular de la siguiente manera:\n",
    "\n",
    "![img](https://sitiobigdata.com/wp-content/uploads/2019/10/Qu%C3%A9-es-Covarianza-y-correlaci%C3%B3n1.png)\n",
    "\n",
    "Dónde:\n",
    "\n",
    "    x̄ es la media muestral de x\n",
    "    ȳ es la media muestral de y\n",
    "    x_i e y_i son los valores de x e y para el i-ésimo dato en la muestra.\n",
    "    n es el no. de datos en la muestra"
   ]
  },
  {
   "cell_type": "markdown",
   "id": "b7828a32",
   "metadata": {},
   "source": [
    "### [Correlación](https://www.incibe-cert.es/blog/correlacion-herramientas-analisis-datos)  \n",
    "---\n",
    "\n",
    "\n",
    "El coeficiente de correlación oscila entre -1 y 1. \n",
    "\n",
    "**Los valores de r positivos indican una correlación positiva, en la que los valores de ambas variables tienden a incrementarse juntos**.\n",
    "\n",
    "**Los valores de r negativos indican una correlación negativa, en la que los valores de una variable tienden a incrementarse mientras que los valores de la otra variable descienden**.\n",
    "\n",
    "Un valor de 0 implica que no existe una correlación lineal entre las variables.\n",
    "\n",
    "----------\n",
    "\n",
    "**¿Cómo se utiliza el coeficiente de correlación?**\n",
    "\n",
    "Para dos variables, la fórmula compara la distancia de cada dato puntual respecto a la media de la variable y utiliza esta comparación para decirnos hasta qué punto la relación entre las variables se ajusta a una línea imaginaria trazada entre los datos. A esto nos referimos cuando decimos que la correlación examina las relaciones lineales.\n",
    "\n",
    "------------\n",
    "\n",
    "**¿Qué limitaciones hay que tener en cuenta?**\n",
    "\n",
    "La correlación sólo se refiere a las dos variables dadas y no aporta información sobre las relaciones más allá de los datos bivariados. Esta prueba no puede detectar valores atípicos en los datos (y por tanto <font color=red>estos sesgan los resultados</font>) y tampoco puede detectar correctamente las relaciones curvilíneas."
   ]
  },
  {
   "cell_type": "code",
   "execution_count": 14,
   "id": "0c14fefa",
   "metadata": {},
   "outputs": [
    {
     "data": {
      "text/html": [
       "<div>\n",
       "<style scoped>\n",
       "    .dataframe tbody tr th:only-of-type {\n",
       "        vertical-align: middle;\n",
       "    }\n",
       "\n",
       "    .dataframe tbody tr th {\n",
       "        vertical-align: top;\n",
       "    }\n",
       "\n",
       "    .dataframe thead th {\n",
       "        text-align: right;\n",
       "    }\n",
       "</style>\n",
       "<table border=\"1\" class=\"dataframe\">\n",
       "  <thead>\n",
       "    <tr style=\"text-align: right;\">\n",
       "      <th></th>\n",
       "      <th>eruptions</th>\n",
       "      <th>waiting</th>\n",
       "    </tr>\n",
       "  </thead>\n",
       "  <tbody>\n",
       "    <tr>\n",
       "      <th>eruptions</th>\n",
       "      <td>1.000000</td>\n",
       "      <td>0.777972</td>\n",
       "    </tr>\n",
       "    <tr>\n",
       "      <th>waiting</th>\n",
       "      <td>0.777972</td>\n",
       "      <td>1.000000</td>\n",
       "    </tr>\n",
       "  </tbody>\n",
       "</table>\n",
       "</div>"
      ],
      "text/plain": [
       "           eruptions   waiting\n",
       "eruptions   1.000000  0.777972\n",
       "waiting     0.777972  1.000000"
      ]
     },
     "execution_count": 14,
     "metadata": {},
     "output_type": "execute_result"
    }
   ],
   "source": [
    "# coeficiente de correlación\n",
    "faithful.corr(method=\"spearman\")"
   ]
  },
  {
   "cell_type": "markdown",
   "id": "6ed735e7",
   "metadata": {},
   "source": [
    "![img](https://www.jmp.com/es_co/statistics-knowledge-portal/what-is-correlation/correlation-coefficient/_jcr_content/par/styledcontainer_2069/par/image_9254.img.gif/1596641539725.gif)"
   ]
  },
  {
   "cell_type": "markdown",
   "id": "2c9033d4",
   "metadata": {},
   "source": [
    "## ¿Por qué es importante conocer las distribuciones?"
   ]
  }
 ],
 "metadata": {
  "kernelspec": {
   "display_name": "Python 3 (ipykernel)",
   "language": "python",
   "name": "python3"
  },
  "language_info": {
   "codemirror_mode": {
    "name": "ipython",
    "version": 3
   },
   "file_extension": ".py",
   "mimetype": "text/x-python",
   "name": "python",
   "nbconvert_exporter": "python",
   "pygments_lexer": "ipython3",
   "version": "3.9.13"
  }
 },
 "nbformat": 4,
 "nbformat_minor": 5
}
